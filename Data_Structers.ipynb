{
 "cells": [
  {
   "cell_type": "code",
   "execution_count": 5,
   "id": "ff60ff86",
   "metadata": {},
   "outputs": [
    {
     "name": "stdout",
     "output_type": "stream",
     "text": [
      "['Mon', 'Tue', 'Wed', 'Thu']\n",
      "Thu\n",
      "['Mon', 'Tue', 'Wed']\n"
     ]
    }
   ],
   "source": [
    "#Last In First Out ::\n",
    "#Append for add new element \n",
    "\n",
    "class Stack :\n",
    "    def __init__(self) :\n",
    "        self.stack = []\n",
    "    def add(self,dataval) :\n",
    "        if(dataval not in self.stack) :\n",
    "            self.stack.append(dataval)\n",
    "            return True\n",
    "        else :\n",
    "            return False\n",
    "        \n",
    "    def remove(self) :\n",
    "        if(len(self.stack) > 0) :\n",
    "            self.stack.pop()\n",
    "        else :\n",
    "            print(\"No elements\")\n",
    "    def printstack(self) :\n",
    "        print(self.stack)\n",
    "    \n",
    "    def peek(self) :\n",
    "        return self.stack[-1]\n",
    "    \n",
    "    \n",
    "dayStack = Stack()\n",
    "dayStack.add(\"Mon\")\n",
    "dayStack.add(\"Tue\")\n",
    "dayStack.add(\"Wed\")\n",
    "dayStack.add(\"Thu\")\n",
    "dayStack.printstack()\n",
    "print(dayStack.peek())\n",
    "dayStack.remove()\n",
    "dayStack.printstack()\n",
    "        \n",
    "        "
   ]
  },
  {
   "cell_type": "code",
   "execution_count": 63,
   "id": "9469b3fc",
   "metadata": {},
   "outputs": [
    {
     "name": "stdout",
     "output_type": "stream",
     "text": [
      "10\n",
      "14\n",
      "19\n",
      "27\n",
      "31\n",
      "35\n",
      "42\n",
      "[10, 19, 14, 31, 42, 35, 27]\n",
      "value not found\n"
     ]
    }
   ],
   "source": [
    "#Python - Binary Tree\n",
    "class Node :\n",
    "    def __init__(self,data) :\n",
    "        self.left = None\n",
    "        self.right = None\n",
    "        self.data = data\n",
    "    def insert(self,data) :\n",
    "        if(self.data) :\n",
    "            if(data < self.data) :\n",
    "                if(self.left is None ):\n",
    "                    self.left = Node(data)\n",
    "                else :\n",
    "                    self.left.insert(data)\n",
    "            elif data > self.data :\n",
    "                if(self.right is None ):\n",
    "                    self.right = Node(data)\n",
    "                else :\n",
    "                    self.right.insert(data)\n",
    "        else :\n",
    "            self.data = data\n",
    "    def PrintTree(self):\n",
    "        if self.left:\n",
    "            self.left.PrintTree()\n",
    "        print( self.data),\n",
    "        if self.right:\n",
    "            self.right.PrintTree()\n",
    "    def PostorderTraversal(self, root):\n",
    "        res = []\n",
    "        if root:\n",
    "            if(root.left is not None)  :\n",
    "                res = self.PostorderTraversal(root.left)\n",
    "            if(root.right  is not None) :\n",
    "                res = res + self.PostorderTraversal(root.right)\n",
    "            res.append(root.data)\n",
    "            return res\n",
    "    def findval(self, lkpval):\n",
    "        if(self.data < lkpval) :\n",
    "            if (self.right is not None) :\n",
    "                return self.right.findval(lkpval)\n",
    "            else :\n",
    "                print(\"value not found\")\n",
    "        elif(self.data > lkpval) :\n",
    "            if(self.left is not None) :\n",
    "                return self.left.findval(lkpval)\n",
    "            else :\n",
    "                print(\"value not found\")\n",
    "        else:\n",
    "            print(str(self.data) + ' is found')\n",
    "        \n",
    "            \n",
    "        \n",
    "    \n",
    "    \n",
    "root = Node(27)\n",
    "root.insert(14)\n",
    "root.insert(35)\n",
    "root.insert(10)\n",
    "root.insert(19)\n",
    "root.insert(31)\n",
    "root.insert(42)\n",
    "root.PrintTree()\n",
    "print(root.PostorderTraversal(root)) \n",
    "root.findval(4245)\n",
    "        \n",
    "        \n",
    "        \n"
   ]
  },
  {
   "cell_type": "code",
   "execution_count": 55,
   "id": "e4784080",
   "metadata": {},
   "outputs": [
    {
     "name": "stdout",
     "output_type": "stream",
     "text": [
      "[2, 11, 19, 27, 30, 31, 45, 121]\n"
     ]
    }
   ],
   "source": [
    "# Insertion Sort\n",
    "# Insertion sort involves finding the right place for a given element in a sorted list. So in beginning \n",
    "# we compare the first two elements and sort them by comparing them. Then we pick the third element and \n",
    "# find its proper position among the previous two sorted elements. This way we gradually \n",
    "# go on adding more elements to the already sorted list by putting them in their proper position.\n",
    "\n",
    "def insertion_sort(InputList):\n",
    "    for i in range(1, len(InputList)):\n",
    "        \n",
    "        j = i-1\n",
    "        nxt_element = InputList[i]       \n",
    "        \n",
    "        # Compare the current element with next one\n",
    "        while (InputList[j] > nxt_element) and (j >= 0):\n",
    "            InputList[j+1] = InputList[j]\n",
    "            j=j-1\n",
    "            InputList[j+1] = nxt_element\n",
    "list = [19,2,31,45,30,11,121,27]\n",
    "insertion_sort(list)\n",
    "print(list)"
   ]
  },
  {
   "cell_type": "code",
   "execution_count": 58,
   "id": "ca059b0b",
   "metadata": {},
   "outputs": [
    {
     "name": "stdout",
     "output_type": "stream",
     "text": [
      "[-1, 2, 11, 19, 27, 30, 31, 45, 121]\n"
     ]
    }
   ],
   "source": [
    "# In selection sort we start by finding the minimum value in a given list and move it to a sorted list. \n",
    "# Then we repeat the process for each of the remaining elements in the unsorted list. \n",
    "# The next element entering the sorted list is compared with the existing elements and placed at its correct position.\n",
    "# So, at the end all the elements from the unsorted list are sorted.\n",
    "\n",
    "def selection_sort(input_list):\n",
    "    for idx in range(len(input_list)) :\n",
    "        min_idx = idx\n",
    "        for j in range(idx+1,len(input_list)) :\n",
    "            if(input_list[min_idx] > input_list[j]) :\n",
    "                min_idx = j\n",
    "        input_list[idx],input_list[min_idx] = input_list[min_idx],input_list[idx]\n",
    "            \n",
    "l = [19,2,31,45,30,11,121,27,-1]\n",
    "selection_sort(l)\n",
    "print(l)       "
   ]
  },
  {
   "cell_type": "code",
   "execution_count": null,
   "id": "55d2c7f8",
   "metadata": {},
   "outputs": [],
   "source": [
    "class Node:\n",
    "    def __init__(self, dataval=None):\n",
    "        self.dataval = dataval\n",
    "        self.nextval = None\n",
    "\n",
    "class SLinkedList:\n",
    "    def __init__(self):\n",
    "        self.headval = None\n",
    "        "
   ]
  },
  {
   "cell_type": "code",
   "execution_count": null,
   "id": "421e2d69",
   "metadata": {},
   "outputs": [],
   "source": [
    "class Solution:\n",
    "    def lengthOfLongestSubstring(self, s: str) -> int:\n",
    "        def check(start, end):\n",
    "            chars = [0] * 128\n",
    "            for i in range(start, end + 1):\n",
    "                c = s[i]\n",
    "                chars[ord(c)] += 1\n",
    "                if chars[ord(c)] > 1:\n",
    "                    return False\n",
    "            return True\n",
    "\n",
    "        n = len(s)\n",
    "\n",
    "        res = 0\n",
    "        for i in range(n):\n",
    "            for j in range(i, n):\n",
    "                if check(i, j):\n",
    "                    res = max(res, j - i + 1)\n",
    "        return res"
   ]
  }
 ],
 "metadata": {
  "kernelspec": {
   "display_name": "Python 3",
   "language": "python",
   "name": "python3"
  },
  "language_info": {
   "codemirror_mode": {
    "name": "ipython",
    "version": 3
   },
   "file_extension": ".py",
   "mimetype": "text/x-python",
   "name": "python",
   "nbconvert_exporter": "python",
   "pygments_lexer": "ipython3",
   "version": "3.7.3"
  }
 },
 "nbformat": 4,
 "nbformat_minor": 5
}
