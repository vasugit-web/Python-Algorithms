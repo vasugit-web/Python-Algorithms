{
 "cells": [
  {
   "cell_type": "code",
   "execution_count": 43,
   "id": "4e4c977f",
   "metadata": {},
   "outputs": [
    {
     "name": "stdout",
     "output_type": "stream",
     "text": [
      "['baz']\n",
      "['baz', 'baz']\n",
      "['baz', 'baz', 'baz']\n",
      "['baz']\n",
      "['baz']\n",
      "['baz']\n"
     ]
    }
   ],
   "source": [
    "##common Mistake #1: Misusing expressions as defaults for function arguments\n",
    "\n",
    "def foo(bar=[]):\n",
    "    # bar is optional and defaults to [] if not specified\n",
    "    bar.append(\"baz\")    # but this line could be problematic, as we'll see...\n",
    "    return bar\n",
    "print(foo())\n",
    "print(foo())\n",
    "print(foo())\n",
    "\n",
    "def foo2(bar=None):\n",
    "    # bar is optional and defaults to [] if not specified\n",
    "    if(bar is None) :\n",
    "        bar = []\n",
    "    bar.append(\"baz\")    # but this line could be problematic, as we'll see...\n",
    "    return bar\n",
    "print(foo2())\n",
    "print(foo2())\n",
    "print(foo2())"
   ]
  },
  {
   "cell_type": "code",
   "execution_count": 12,
   "id": "bae898f8",
   "metadata": {},
   "outputs": [
    {
     "name": "stdout",
     "output_type": "stream",
     "text": [
      "1 1 1\n",
      "1 2 1\n",
      "3 2 3\n"
     ]
    }
   ],
   "source": [
    "##Common Mistake #2: Using class variables incorrectly\n",
    "\n",
    "class A(object):\n",
    "    x = 1\n",
    "class B(A):\n",
    "    pass\n",
    "\n",
    "class C(A):\n",
    "    pass\n",
    "\n",
    "print (A.x, B.x, C.x)\n",
    "\n",
    "B.x = 2\n",
    "print (A.x, B.x, C.x)\n",
    "\n",
    "A.x = 3\n",
    "print(A.x, B.x, C.x)"
   ]
  },
  {
   "cell_type": "code",
   "execution_count": 16,
   "id": "a8789c6c",
   "metadata": {},
   "outputs": [
    {
     "ename": "SyntaxError",
     "evalue": "invalid syntax (<ipython-input-16-89e62c8d94c6>, line 4)",
     "output_type": "error",
     "traceback": [
      "\u001b[1;36m  File \u001b[1;32m\"<ipython-input-16-89e62c8d94c6>\"\u001b[1;36m, line \u001b[1;32m4\u001b[0m\n\u001b[1;33m    except ValueError, IndexError :  # To catch both exceptions, right?\u001b[0m\n\u001b[1;37m                     ^\u001b[0m\n\u001b[1;31mSyntaxError\u001b[0m\u001b[1;31m:\u001b[0m invalid syntax\n"
     ]
    }
   ],
   "source": [
    "##Common Mistake #3: Specifying parameters incorrectly for an exception block\n",
    "\n",
    "try:\n",
    "    l = [\"a\", \"b\"]\n",
    "    int(l[2])\n",
    "except ValueError, IndexError :  # To catch both exceptions, right?\n",
    "    pass\n",
    "\n",
    "try:\n",
    "    l = [\"a\", \"b\"]\n",
    "    int(l[2])\n",
    "except (ValueError, IndexError) as e:  \n",
    "    pass"
   ]
  },
  {
   "cell_type": "code",
   "execution_count": 25,
   "id": "f1b46288",
   "metadata": {},
   "outputs": [
    {
     "ename": "UnboundLocalError",
     "evalue": "local variable 'lst' referenced before assignment",
     "output_type": "error",
     "traceback": [
      "\u001b[1;31m---------------------------------------------------------------------------\u001b[0m",
      "\u001b[1;31mUnboundLocalError\u001b[0m                         Traceback (most recent call last)",
      "\u001b[1;32m<ipython-input-25-af82fab2a645>\u001b[0m in \u001b[0;36m<module>\u001b[1;34m\u001b[0m\n\u001b[0;32m     14\u001b[0m \u001b[1;32mdef\u001b[0m \u001b[0mfoo2\u001b[0m\u001b[1;33m(\u001b[0m\u001b[1;33m)\u001b[0m\u001b[1;33m:\u001b[0m\u001b[1;33m\u001b[0m\u001b[1;33m\u001b[0m\u001b[0m\n\u001b[0;32m     15\u001b[0m     \u001b[0mlst\u001b[0m \u001b[1;33m+=\u001b[0m \u001b[1;33m[\u001b[0m\u001b[1;36m5\u001b[0m\u001b[1;33m]\u001b[0m      \u001b[1;31m# ... but this bombs!\u001b[0m\u001b[1;33m\u001b[0m\u001b[1;33m\u001b[0m\u001b[0m\n\u001b[1;32m---> 16\u001b[1;33m \u001b[0mfoo2\u001b[0m\u001b[1;33m(\u001b[0m\u001b[1;33m)\u001b[0m\u001b[1;33m\u001b[0m\u001b[1;33m\u001b[0m\u001b[0m\n\u001b[0m",
      "\u001b[1;32m<ipython-input-25-af82fab2a645>\u001b[0m in \u001b[0;36mfoo2\u001b[1;34m()\u001b[0m\n\u001b[0;32m     13\u001b[0m \u001b[0mlst\u001b[0m \u001b[1;33m=\u001b[0m \u001b[1;33m[\u001b[0m\u001b[1;36m1\u001b[0m\u001b[1;33m,\u001b[0m \u001b[1;36m2\u001b[0m\u001b[1;33m,\u001b[0m \u001b[1;36m3\u001b[0m\u001b[1;33m]\u001b[0m\u001b[1;33m\u001b[0m\u001b[1;33m\u001b[0m\u001b[0m\n\u001b[0;32m     14\u001b[0m \u001b[1;32mdef\u001b[0m \u001b[0mfoo2\u001b[0m\u001b[1;33m(\u001b[0m\u001b[1;33m)\u001b[0m\u001b[1;33m:\u001b[0m\u001b[1;33m\u001b[0m\u001b[1;33m\u001b[0m\u001b[0m\n\u001b[1;32m---> 15\u001b[1;33m     \u001b[0mlst\u001b[0m \u001b[1;33m+=\u001b[0m \u001b[1;33m[\u001b[0m\u001b[1;36m5\u001b[0m\u001b[1;33m]\u001b[0m      \u001b[1;31m# ... but this bombs!\u001b[0m\u001b[1;33m\u001b[0m\u001b[1;33m\u001b[0m\u001b[0m\n\u001b[0m\u001b[0;32m     16\u001b[0m \u001b[0mfoo2\u001b[0m\u001b[1;33m(\u001b[0m\u001b[1;33m)\u001b[0m\u001b[1;33m\u001b[0m\u001b[1;33m\u001b[0m\u001b[0m\n",
      "\u001b[1;31mUnboundLocalError\u001b[0m: local variable 'lst' referenced before assignment"
     ]
    }
   ],
   "source": [
    "#Common Mistake #4: Misunderstanding Python scope rules\n",
    "\n",
    "# x = 10\n",
    "# def foo():\n",
    "#    \n",
    "x += 1\n",
    "#     print(x)\n",
    "# foo()\n",
    "\n",
    "lst = [1, 2, 3]\n",
    "def foo1():\n",
    "    lst.append(5)   # This works ok...\n",
    "lst\n",
    "foo1()\n",
    "\n",
    "lst = [1, 2, 3]\n",
    "def foo2():\n",
    "    lst += [5]      # ... but this bombs!\n",
    "foo2()\n"
   ]
  },
  {
   "cell_type": "code",
   "execution_count": 26,
   "id": "4725f729",
   "metadata": {},
   "outputs": [
    {
     "ename": "IndexError",
     "evalue": "list index out of range",
     "output_type": "error",
     "traceback": [
      "\u001b[1;31m---------------------------------------------------------------------------\u001b[0m",
      "\u001b[1;31mIndexError\u001b[0m                                Traceback (most recent call last)",
      "\u001b[1;32m<ipython-input-26-9134cb981f74>\u001b[0m in \u001b[0;36m<module>\u001b[1;34m\u001b[0m\n\u001b[0;32m      3\u001b[0m \u001b[0mnumbers\u001b[0m \u001b[1;33m=\u001b[0m \u001b[1;33m[\u001b[0m\u001b[0mn\u001b[0m \u001b[1;32mfor\u001b[0m \u001b[0mn\u001b[0m \u001b[1;32min\u001b[0m \u001b[0mrange\u001b[0m\u001b[1;33m(\u001b[0m\u001b[1;36m10\u001b[0m\u001b[1;33m)\u001b[0m\u001b[1;33m]\u001b[0m\u001b[1;33m\u001b[0m\u001b[1;33m\u001b[0m\u001b[0m\n\u001b[0;32m      4\u001b[0m \u001b[1;32mfor\u001b[0m \u001b[0mi\u001b[0m \u001b[1;32min\u001b[0m \u001b[0mrange\u001b[0m\u001b[1;33m(\u001b[0m\u001b[0mlen\u001b[0m\u001b[1;33m(\u001b[0m\u001b[0mnumbers\u001b[0m\u001b[1;33m)\u001b[0m\u001b[1;33m)\u001b[0m\u001b[1;33m:\u001b[0m\u001b[1;33m\u001b[0m\u001b[1;33m\u001b[0m\u001b[0m\n\u001b[1;32m----> 5\u001b[1;33m     \u001b[1;32mif\u001b[0m \u001b[0modd\u001b[0m\u001b[1;33m(\u001b[0m\u001b[0mnumbers\u001b[0m\u001b[1;33m[\u001b[0m\u001b[0mi\u001b[0m\u001b[1;33m]\u001b[0m\u001b[1;33m)\u001b[0m\u001b[1;33m:\u001b[0m\u001b[1;33m\u001b[0m\u001b[1;33m\u001b[0m\u001b[0m\n\u001b[0m\u001b[0;32m      6\u001b[0m         \u001b[1;32mdel\u001b[0m \u001b[0mnumbers\u001b[0m\u001b[1;33m[\u001b[0m\u001b[0mi\u001b[0m\u001b[1;33m]\u001b[0m  \u001b[1;31m# BAD: Deleting item from a list while iterating over it\u001b[0m\u001b[1;33m\u001b[0m\u001b[1;33m\u001b[0m\u001b[0m\n",
      "\u001b[1;31mIndexError\u001b[0m: list index out of range"
     ]
    }
   ],
   "source": [
    "#Common Mistake #5: Modifying a list while iterating over it\n",
    "odd = lambda x : bool(x % 2)\n",
    "numbers = [n for n in range(10)]\n",
    "for i in range(len(numbers)):\n",
    "    if odd(numbers[i]):\n",
    "        del numbers[i]  # BAD: Deleting item from a list while iterating over it\n"
   ]
  },
  {
   "cell_type": "code",
   "execution_count": 28,
   "id": "1681616c",
   "metadata": {},
   "outputs": [
    {
     "name": "stdout",
     "output_type": "stream",
     "text": [
      "8\n",
      "8\n",
      "8\n",
      "8\n",
      "8\n"
     ]
    }
   ],
   "source": [
    "def create_multipliers():\n",
    "    return [lambda x : i * x for i in range(5)]\n",
    "for multiplier in create_multipliers():\n",
    "     print (multiplier(2))"
   ]
  },
  {
   "cell_type": "code",
   "execution_count": 32,
   "id": "c178cf5c",
   "metadata": {},
   "outputs": [
    {
     "name": "stdout",
     "output_type": "stream",
     "text": [
      "value error\n",
      "invalid literal for int() with base 10: '-f'\n"
     ]
    }
   ],
   "source": [
    "#9: Failing to address differences between Python 2 and Python 3\n",
    "import sys\n",
    "\n",
    "def bar(i):\n",
    "    if i == 1:\n",
    "        raise KeyError(1)\n",
    "    if i == 2:\n",
    "        raise ValueError(2)\n",
    "\n",
    "def bad():\n",
    "    e = None\n",
    "    try:\n",
    "        bar(int(sys.argv[1]))\n",
    "    except KeyError as e:\n",
    "        print('key error')\n",
    "    except ValueError as e:\n",
    "        print('value error')\n",
    "    print(e)\n",
    "#bad()\n",
    "\n",
    "def good():\n",
    "    exception = None\n",
    "    try:\n",
    "        bar(int(sys.argv[1]))\n",
    "    except KeyError as e:\n",
    "        exception = e\n",
    "        print('key error')\n",
    "    except ValueError as e:\n",
    "        exception = e\n",
    "        print('value error')\n",
    "    print(exception)\n",
    "\n",
    "good()"
   ]
  },
  {
   "cell_type": "code",
   "execution_count": 36,
   "id": "94044227",
   "metadata": {},
   "outputs": [
    {
     "name": "stdout",
     "output_type": "stream",
     "text": [
      "value error\n",
      "invalid literal for int() with base 10: '-f'\n"
     ]
    }
   ],
   "source": [
    "#10: Misusing the __del__ method\n",
    "import foo\n",
    "\n",
    "class Bar(object):\n",
    "    def __del__(self):\n",
    "        foo.cleanup(self.myhandle)"
   ]
  }
 ],
 "metadata": {
  "kernelspec": {
   "display_name": "Python 3",
   "language": "python",
   "name": "python3"
  },
  "language_info": {
   "codemirror_mode": {
    "name": "ipython",
    "version": 3
   },
   "file_extension": ".py",
   "mimetype": "text/x-python",
   "name": "python",
   "nbconvert_exporter": "python",
   "pygments_lexer": "ipython3",
   "version": "3.7.3"
  }
 },
 "nbformat": 4,
 "nbformat_minor": 5
}
