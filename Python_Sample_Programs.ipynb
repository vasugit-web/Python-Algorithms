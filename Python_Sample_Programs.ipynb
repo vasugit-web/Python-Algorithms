{
 "cells": [
  {
   "cell_type": "code",
   "execution_count": 2,
   "id": "60d16b0c",
   "metadata": {},
   "outputs": [
    {
     "ename": "SyntaxError",
     "evalue": "invalid syntax (<ipython-input-2-bff996984c4f>, line 19)",
     "output_type": "error",
     "traceback": [
      "\u001b[1;36m  File \u001b[1;32m\"<ipython-input-2-bff996984c4f>\"\u001b[1;36m, line \u001b[1;32m19\u001b[0m\n\u001b[1;33m    [x, x**2 for x in range(6)]\u001b[0m\n\u001b[1;37m               ^\u001b[0m\n\u001b[1;31mSyntaxError\u001b[0m\u001b[1;31m:\u001b[0m invalid syntax\n"
     ]
    }
   ],
   "source": [
    ">>> vec = [-4, -2, 0, 2, 4]\n",
    ">>> # create a new list with the values doubled\n",
    ">>> [x*2 for x in vec]\n",
    "[-8, -4, 0, 4, 8]\n",
    ">>> # filter the list to exclude negative numbers\n",
    ">>> [x for x in vec if x >= 0]\n",
    "[0, 2, 4]\n",
    ">>> # apply a function to all the elements\n",
    ">>> [abs(x) for x in vec]\n",
    "[4, 2, 0, 2, 4]\n",
    ">>> # call a method on each element\n",
    ">>> freshfruit = ['  banana', '  loganberry ', 'passion fruit  ']\n",
    ">>> [weapon.strip() for weapon in freshfruit]\n",
    "['banana', 'loganberry', 'passion fruit']\n",
    ">>> # create a list of 2-tuples like (number, square)\n",
    ">>> [(x, x**2) for x in range(6)]\n",
    "[(0, 0), (1, 1), (2, 4), (3, 9), (4, 16), (5, 25)]\n",
    ">>> # the tuple must be parenthesized, otherwise an error is raised\n",
    ">>> [x, x**2 for x in range(6)]\n",
    "  File \"<stdin>\", line 1, in <module>\n",
    "    [x, x**2 for x in range(6)]\n",
    "               ^\n",
    "SyntaxError: invalid syntax\n",
    ">>> # flatten a list using a listcomp with two 'for'\n",
    ">>> vec = [[1,2,3], [4,5,6], [7,8,9]]\n",
    ">>> [num for elem1 in vec for num in elem1]\n",
    "[1, 2, 3, 4, 5, 6, 7, 8, 9]"
   ]
  },
  {
   "cell_type": "code",
   "execution_count": 5,
   "id": "b5c1ffc1",
   "metadata": {},
   "outputs": [
    {
     "name": "stdout",
     "output_type": "stream",
     "text": [
      "1234\n",
      "4321\n",
      "[0, 1, 1, 2, 3, 5]\n",
      "16\n",
      "7\n",
      "[1, 2, 3, 4, 5, 6, 7, 8, 9]\n",
      "['1', '5', '4', '6']\n",
      "[1, 4, 3, 6, 7]\n",
      "2\n",
      "3\n",
      "9\n",
      "2\n",
      "3\n",
      "3\n",
      "9\n",
      "9\n",
      "[0, 1, 0, 1, 0, 0]\n"
     ]
    }
   ],
   "source": [
    "# flatten a list using a listcomp with two 'for'\n",
    "vec = [[1,2,3], [4,5,6], [7,8,9]]\n",
    "a = [num for elem2 in vec for num in elem2]\n",
    "[1, 2, 3, 4, 5, 6, 7, 8, 9]\n",
    "\n",
    "# .join() with lists\n",
    "numList = ['1', '2', '3', '4']\n",
    "separator = ''\n",
    "print(''.join(numList))\n",
    "str1 = int(''.join(numList))\n",
    "rever = 0\n",
    "\n",
    "while (str1 != 0) :\n",
    "    inter1 = str1%10\n",
    "    #print(inter1)\n",
    "    rever = rever*10 + inter1\n",
    "    str1 = str1//10\n",
    "    \n",
    "\n",
    "\n",
    "print(rever)\n",
    "\n",
    "\n",
    "def fib(n) :\n",
    "    res = [0,1]\n",
    "    for i in range(2,n+1):\n",
    "        res.append(res[i-1] + res[i-2])\n",
    "    print(res)\n",
    "    \n",
    "fib(5)\n",
    "\n",
    "def power1(b,n) :\n",
    "    if(n==1) :\n",
    "        return b\n",
    "    elif n == 0 :\n",
    "        return 1\n",
    "    else:\n",
    "        return b * power1(b,n-1)\n",
    "print(power1(2,4))\n",
    "\n",
    "def fact(n) :\n",
    "    if(n==1) :\n",
    "        return 1\n",
    "    else :\n",
    "        return n* fact(n-1)\n",
    "fact(5)\n",
    "\n",
    "def binaryTodecimal(a) :\n",
    "    reminder = 0\n",
    "    value = 0\n",
    "    count = 0\n",
    "    while(a > 0) :\n",
    "        reminder =  a%10\n",
    "        value = value + reminder * pow(2,count)\n",
    "        a = a//10\n",
    "        count = count + 1\n",
    "    return value\n",
    "print(binaryTodecimal(111))\n",
    "\n",
    "def sumofnumbers(a) :\n",
    "    reminderdigit = 0\n",
    "    sum = 0\n",
    "    while(a > 0) :\n",
    "        reminderdigit = a%10\n",
    "        sum = sum + reminderdigit\n",
    "        a = a//10\n",
    "    return sum\n",
    "sumofnumbers(889)\n",
    "\n",
    "vec = [[1,2,3], [4,5,6], [7,8,9]]\n",
    "def flatten() :\n",
    "    print([el2  for num in vec for el2 in num])\n",
    "      \n",
    "flatten()  \n",
    "\n",
    "def strtoint(s) :\n",
    "    l = []\n",
    "    for e in s:\n",
    "        l.append(e)\n",
    "    return l\n",
    "print(strtoint('1546'))  \n",
    "\n",
    "test_list = ['1', '4', '3', '6', '7']\n",
    "\n",
    "print([int(elm) for elm in test_list])\n",
    "\n",
    "# using map() to\n",
    "# perform conversion\n",
    "test_list = list(map(int, test_list))\n",
    "\n",
    "m1    = [[1,2],\n",
    "         [8,1]]\n",
    "\n",
    "#Matrix II \n",
    "m2    = [[1,1],\n",
    "         [1,1]]\n",
    "\n",
    "sum   = [[0,0], \n",
    "         [0,0]]\n",
    "\n",
    "prod   = [[0,0], \n",
    "         [0,0]]\n",
    "\n",
    "\n",
    "rows = len(m1[0])\n",
    "cols = len(m1)\n",
    "for i in range(rows) :\n",
    "    for j in range(cols):\n",
    "        sum[i][j] = m1[i][j] + m2[i][j]\n",
    "for i in range(rows) :\n",
    "    for j in range(cols):\n",
    "        print(sum[i][j])\n",
    "        \n",
    "for i in range(rows) :\n",
    "    prod[i][j] = 0\n",
    "    for j in range(cols): # Thinking Columns from Send Matrix\n",
    "        for k in range(cols) : #Columns  from First or rows from Second\n",
    "            prod[i][j] = prod[i][j] +  m1[i][k]* m2[k][j]\n",
    "    \n",
    "\n",
    "for i in range(rows) :\n",
    "    for j in range(cols):\n",
    "        print(prod[i][j])\n",
    "        \n",
    "        \n",
    "k = []\n",
    "def decimal2biary(a) :\n",
    "    if(a > 0) :\n",
    "        decimal2biary(int(a/2))\n",
    "    k.append((int(a%2)))\n",
    "\n",
    "decimal2biary(20)\n",
    "print(''.join(str(k)))"
   ]
  },
  {
   "cell_type": "code",
   "execution_count": 1,
   "id": "4e9acca7",
   "metadata": {},
   "outputs": [
    {
     "name": "stdout",
     "output_type": "stream",
     "text": [
      "0\n",
      "3\n"
     ]
    }
   ],
   "source": [
    "dc = dict()\n",
    "A = list()\n",
    "A = [-2,-5]\n",
    "for i in range(len(A) -1) :\n",
    "    dc[i] = i\n",
    "k=0\n",
    "for i in A :\n",
    "    if (abs(i) in dc) :\n",
    "        k = k+1\n",
    "    else :\n",
    "        if(k != 0) :\n",
    "            min = k-1\n",
    "        else :\n",
    "            min = 0\n",
    "        \n",
    "        break\n",
    "print(k)    \n",
    "print(abs(A[min])+1)       "
   ]
  },
  {
   "cell_type": "code",
   "execution_count": 9,
   "id": "d1be6fb9",
   "metadata": {},
   "outputs": [
    {
     "name": "stdout",
     "output_type": "stream",
     "text": [
      "[2, 4, 1, 5, 3]\n",
      "[5, 4, 3, 2, 1]\n"
     ]
    }
   ],
   "source": [
    "def reverse(b) :\n",
    "    ind  = 0\n",
    "    a = {}\n",
    "    a = [i for i in b]\n",
    "    for i in a :\n",
    "        temp = a[ind]\n",
    "        #print(temp)\n",
    "        a.remove(temp)\n",
    "        #print(a)\n",
    "        a.append(temp)\n",
    "        #print(a)\n",
    "        ind +=1\n",
    "    print(a)   \n",
    "m = [1,2,3,4,5]\n",
    "reverse(m)\n",
    "print(m[::-1])\n",
    "\n",
    "    "
   ]
  },
  {
   "cell_type": "code",
   "execution_count": 15,
   "id": "dd70219a",
   "metadata": {},
   "outputs": [
    {
     "name": "stdout",
     "output_type": "stream",
     "text": [
      "Enter the integer number: 541\n",
      "The reverse number is : 145\n"
     ]
    }
   ],
   "source": [
    "# Ask for enter the number from the use  \n",
    "number = int(input(\"Enter the integer number: \"))  \n",
    "  \n",
    "# Initiate value to null  \n",
    "revs_number = 0  \n",
    "  \n",
    "# reverse the integer number using the while loop  \n",
    "  \n",
    "while (number > 0):  \n",
    "    # Logic  \n",
    "    remainder = number % 10  \n",
    "    revs_number = (revs_number * 10) + remainder  \n",
    "    number = number // 10  \n",
    "  \n",
    "# Display the result  \n",
    "print(\"The reverse number is : {}\".format(revs_number))  "
   ]
  },
  {
   "cell_type": "code",
   "execution_count": 9,
   "id": "62d8473e",
   "metadata": {},
   "outputs": [
    {
     "name": "stdout",
     "output_type": "stream",
     "text": [
      "5\n",
      "3\n",
      "1\n"
     ]
    }
   ],
   "source": [
    "#Fibo\n",
    "def calcfib(i):\n",
    "    if(i< 0) :\n",
    "        return\n",
    "    elif i == 0 :\n",
    "        return\n",
    "    else :\n",
    "        print(i)\n",
    "    \n",
    "    calcfib(i-2)\n",
    "\n",
    "n= 5\n",
    "if(n%2 == 0) :\n",
    "    calcfib(n-1)\n",
    "else :\n",
    "    calcfib(n)\n",
    "\n"
   ]
  },
  {
   "cell_type": "code",
   "execution_count": 11,
   "id": "f259d72a",
   "metadata": {},
   "outputs": [
    {
     "name": "stdout",
     "output_type": "stream",
     "text": [
      "[0, 1, 1, 2, 3, 5, 8, 13, 21, 34]\n"
     ]
    }
   ],
   "source": [
    "# Fibonacci Series using Dynamic Programming\n",
    "def fibonacci(n):\n",
    "     \n",
    "    # Taking 1st two fibonacci numbers as 0 and 1\n",
    "    f = [0, 1]\n",
    "     \n",
    "     \n",
    "    for i in range(2, n+1):\n",
    "        f.append(f[i-1] + f[i-2])\n",
    "    return f\n",
    "     \n",
    "print(fibonacci(9))"
   ]
  },
  {
   "cell_type": "code",
   "execution_count": null,
   "id": "478308de",
   "metadata": {},
   "outputs": [],
   "source": [
    "def power(b,n) :\n",
    "    "
   ]
  },
  {
   "cell_type": "code",
   "execution_count": 6,
   "id": "3cbbff74",
   "metadata": {},
   "outputs": [
    {
     "name": "stdout",
     "output_type": "stream",
     "text": [
      "3\n",
      "2\n",
      "1\n",
      "27\n"
     ]
    }
   ],
   "source": [
    "def powernumber(b,n):\n",
    "    \n",
    "    print(n)\n",
    "        \n",
    "    if n==0 :\n",
    "        return 1   \n",
    "    if(n==1) :\n",
    "        return b\n",
    "    else:\n",
    "        return(b*powernumber(b,n-1))\n",
    "    \n",
    "print(powernumber(3,3))"
   ]
  },
  {
   "cell_type": "code",
   "execution_count": 4,
   "id": "442e1b0a",
   "metadata": {},
   "outputs": [
    {
     "name": "stdout",
     "output_type": "stream",
     "text": [
      "24\n"
     ]
    }
   ],
   "source": [
    "def fact(n) :\n",
    "\n",
    "    if n==1 :\n",
    "        return 1\n",
    "    return n*fact(n-1)\n",
    "\n",
    "print(fact(4))"
   ]
  },
  {
   "cell_type": "code",
   "execution_count": 4,
   "id": "358970b3",
   "metadata": {},
   "outputs": [
    {
     "name": "stdout",
     "output_type": "stream",
     "text": [
      "Isprime=\n",
      "13\n",
      "True\n"
     ]
    }
   ],
   "source": [
    "def isPrime(n):\n",
    "    fact = n//2\n",
    "    prime = True\n",
    "    for i in range(fact) :\n",
    "        if i%2  == 0 :\n",
    "            prime = False\n",
    "        else :\n",
    "            prime = True\n",
    "    print(i)\n",
    "    return prime\n",
    "\n",
    "\n",
    "print(\"Isprime=\")\n",
    "print (isPrime (29))\n"
   ]
  },
  {
   "cell_type": "code",
   "execution_count": 9,
   "id": "808cc816",
   "metadata": {},
   "outputs": [
    {
     "name": "stdout",
     "output_type": "stream",
     "text": [
      "9\n",
      "5\n",
      "19\n"
     ]
    }
   ],
   "source": [
    "## Binary Trees\n",
    "class node :\n",
    "    def __init__(self,data) :\n",
    "        self.data = data\n",
    "        self.left = None\n",
    "        self.right = None\n",
    "    def add(self,data):\n",
    "        if(self.data is None) :\n",
    "            if(data > self.data) :\n",
    "                self.right = node(data)\n",
    "            elif (data < self.data) : \n",
    "                self.left = node(data)\n",
    "        else :\n",
    "            if(data > self.data) :\n",
    "                if(self.left is not None):\n",
    "                    self.insert(data)\n",
    "                else :\n",
    "                    self.left = node(data)\n",
    "            else :\n",
    "                if(self.right is not None):\n",
    "                    self.insert(data)\n",
    "                else :\n",
    "                    self.right = node(data)\n",
    "    def printdata(self) :\n",
    "        if(self.data is None):\n",
    "            print (\"No Data\")\n",
    "        else :\n",
    "            print(self.data)\n",
    "            if(self.right is not None) :\n",
    "                self.right.printdata()\n",
    "            if(self.left is not None) :\n",
    "                self.left.printdata()\n",
    "\n",
    "n = node(9)\n",
    "n.add(19)\n",
    "n.add(5)\n",
    "n.add(29)\n",
    "\n",
    "n.printdata()\n",
    "                    \n"
   ]
  },
  {
   "cell_type": "code",
   "execution_count": null,
   "id": "7f6d9cde",
   "metadata": {},
   "outputs": [],
   "source": [
    "class Node :\n",
    "    def __init__(self, nodevalue) :\n",
    "        self.datavalue  = nodevalue\n",
    "        self.NextValue = None\n",
    "class LinkedList :\n",
    "    def __init__(self,Node) :\n",
    "        headValue = Node\n",
    "        \n",
    "Node1 = Node(\"Mon\")\n",
    "Node2 = Node(\"Tue\")\n",
    "Node3 = Node(\"WEd\")\n",
    "Node4 = Node(\"Thu\")\n",
    "list1 = LinkedList(Node1)\n",
    "Node1.NextValue = Node2\n",
    "    \n",
    "       \n",
    "        "
   ]
  },
  {
   "cell_type": "code",
   "execution_count": 29,
   "id": "f6645442",
   "metadata": {},
   "outputs": [
    {
     "name": "stdout",
     "output_type": "stream",
     "text": [
      "<class 'int'>\n",
      "<class 'str'>\n",
      "<class 'str'>\n",
      "[1, 2, 3, 4, 5]\n"
     ]
    }
   ],
   "source": [
    "#pytin converting string to integer\n",
    "num = 10\n",
    " \n",
    "# check  and print type of num variable\n",
    "print(type(num))\n",
    " \n",
    "# convert the num into string and print\n",
    "converted_num = \"{}\".format(num)\n",
    "print(type(converted_num))\n",
    "print(type(str(num)))\n",
    "name = 12345\n",
    "a = []\n",
    "for x  in str(name) :\n",
    "    a.append(int(x))\n",
    "print(a)"
   ]
  },
  {
   "cell_type": "code",
   "execution_count": null,
   "id": "17e7288c",
   "metadata": {},
   "outputs": [],
   "source": [
    "#Binary to Integer\n",
    "\n",
    "def binary2int(binary): \n",
    "    int_val, i, n = 0, 0, 0\n",
    "    while(binary != 0): \n",
    "        a = binary % 10\n",
    "        int_val = int_val + a * pow(2, i) \n",
    "        binary = binary//10\n",
    "        i += 1\n",
    "    print(int_val) "
   ]
  },
  {
   "cell_type": "code",
   "execution_count": 14,
   "id": "34f4aa3c",
   "metadata": {},
   "outputs": [
    {
     "name": "stdout",
     "output_type": "stream",
     "text": [
      "Enter a decimal number \n",
      "24\n",
      "Binary of 24 is: 11000\n"
     ]
    }
   ],
   "source": [
    "#get input and initialize variables\n",
    "decimal = int(input(\"Enter a decimal number \\n\"))\n",
    "binary = 0\n",
    "ctr = 0\n",
    "temp = decimal  #copy input decimal\n",
    "\n",
    "#find binary value using while loop\n",
    "while(temp > 0):\n",
    "    binary = ((temp%2)*(10**ctr)) + binary\n",
    "    temp = int(temp/2)\n",
    "    ctr += 1\n",
    "\n",
    "#output the result       \n",
    "print(\"Binary of {x} is: {y}\".format(x=decimal,y=binary))"
   ]
  },
  {
   "cell_type": "code",
   "execution_count": 33,
   "id": "8d02b754",
   "metadata": {},
   "outputs": [
    {
     "name": "stdout",
     "output_type": "stream",
     "text": [
      "[0, 1, 0, 0, 0, 1]\n"
     ]
    }
   ],
   "source": [
    "k = []\n",
    "def decimal2biary(a) :\n",
    "    if(a > 0) :\n",
    "        decimal2biary(int(a/2))\n",
    "    k.append((int(a%2)))\n",
    "\n",
    "decimal2biary(17)\n",
    "print(''.join(str(k)))"
   ]
  },
  {
   "cell_type": "code",
   "execution_count": 32,
   "id": "b3651974",
   "metadata": {},
   "outputs": [
    {
     "name": "stdout",
     "output_type": "stream",
     "text": [
      "1\n",
      "1\n",
      "1\n",
      "1\n",
      "17\n",
      "17\n",
      "17\n"
     ]
    }
   ],
   "source": [
    "# Binary To Decimal\n",
    "def binary2decimal(binary) :\n",
    "    count = 0\n",
    "    dec = 0\n",
    "    for s in str(binary):\n",
    "        dec = dec + int(s)*pow(2,count)\n",
    "        print(dec)\n",
    "        count += 1\n",
    "    return dec\n",
    "print(binary2decimal('100010'))"
   ]
  },
  {
   "cell_type": "code",
   "execution_count": 6,
   "id": "fcc67f40",
   "metadata": {},
   "outputs": [
    {
     "name": "stdout",
     "output_type": "stream",
     "text": [
      "22\n"
     ]
    }
   ],
   "source": [
    "#sum of Numbers in a digit\n",
    "def sumofnumbs(num):\n",
    "    sum = 0\n",
    "    while(num > 0) :\n",
    "        sum = sum + num%10\n",
    "        num = num//10\n",
    "    return sum\n",
    "\n",
    "print(sumofnumbs(4567))\n",
    "        \n"
   ]
  },
  {
   "cell_type": "code",
   "execution_count": 36,
   "id": "e41baa8f",
   "metadata": {},
   "outputs": [
    {
     "name": "stdout",
     "output_type": "stream",
     "text": [
      "7\n",
      "6\n",
      "5\n",
      "4\n",
      "3\n",
      "2\n",
      "1\n"
     ]
    }
   ],
   "source": [
    "# reverse a number\n",
    "def reversenumber(num) :\n",
    "    while (num >0):\n",
    "        print (num%10)\n",
    "        num = num//10\n",
    "        \n",
    "reversenumber(1234567)\n",
    "        "
   ]
  },
  {
   "cell_type": "code",
   "execution_count": 55,
   "id": "c1695215",
   "metadata": {},
   "outputs": [
    {
     "name": "stdout",
     "output_type": "stream",
     "text": [
      "n\n",
      "NAN\n",
      "t\n",
      "r\n",
      "NAN\n",
      "i\n",
      "['n', 't', 'r', 'd', 'i']\n"
     ]
    }
   ],
   "source": [
    "##Print nth Letter of Every Word in a String\n",
    "def printnletter(sentence,n) :\n",
    "    for word in sentence.split(' ') :\n",
    "        if(n < len(word)) :\n",
    "            print(word[n-1])\n",
    "        else :\n",
    "            print (\"NAN\")\n",
    "            \n",
    "        \n",
    "printnletter(\"Print  Letter Every Word String\",4)\n",
    "def pl(s,n) :\n",
    "    print( [w[n] for w in s.split(' ') if len(w) > n ])\n",
    "            #if(len(w) > n) for l in  w])\n",
    "\n",
    "pl(\"Print nth Letter of Every Word in String\",3)   "
   ]
  },
  {
   "cell_type": "code",
   "execution_count": 38,
   "id": "f8c490a3",
   "metadata": {},
   "outputs": [
    {
     "name": "stdout",
     "output_type": "stream",
     "text": [
      "4\n"
     ]
    }
   ],
   "source": [
    "##Count Palindrome Words in a Sentence\n",
    "def countpalindromewords(sent) :\n",
    "    count = 0\n",
    "    for word in sent.split(' ') :\n",
    "        if(word == word[::-1]):\n",
    "            count += 1\n",
    "    return count\n",
    "\n",
    "print(countpalindromewords(\"aba asd nbn mkm mkokm\"))"
   ]
  },
  {
   "cell_type": "code",
   "execution_count": 30,
   "id": "8c7c4308",
   "metadata": {},
   "outputs": [
    {
     "name": "stdout",
     "output_type": "stream",
     "text": [
      "abc\n"
     ]
    }
   ],
   "source": [
    "a = ['a', 'b', 'c']\n",
    "res = \"\".join(a)\n",
    "print(res)"
   ]
  },
  {
   "cell_type": "code",
   "execution_count": 33,
   "id": "5a0efe4a",
   "metadata": {},
   "outputs": [
    {
     "name": "stdout",
     "output_type": "stream",
     "text": [
      "8\n",
      "8\n"
     ]
    }
   ],
   "source": [
    "##Count Vowels and Consonants in a String\n",
    "def countvowels(sentence) :\n",
    "    vowels = \"a,e,i,o,u\"\n",
    "    count = 0\n",
    "    for c in sentence :\n",
    "        if(c in vowels.split(',')) :\n",
    "            count += 1\n",
    "    return count \n",
    "\n",
    "\n",
    "print(countvowels(\"srinivasunarahari\"))\n",
    "k = [x for x in \"srinivasunarahari\" if x in (\"a,e,i,o,u\").split(',') ]\n",
    "print(len(k))"
   ]
  },
  {
   "cell_type": "code",
   "execution_count": 58,
   "id": "be5e30fa",
   "metadata": {},
   "outputs": [
    {
     "name": "stdout",
     "output_type": "stream",
     "text": [
      "John#Peter#Vicky\n"
     ]
    }
   ],
   "source": [
    "myTuple = (\"John\", \"Peter\", \"Vicky\")\n",
    "\n",
    "x = \"#\".join(myTuple)\n",
    "print(x)"
   ]
  },
  {
   "cell_type": "code",
   "execution_count": 25,
   "id": "c544363e",
   "metadata": {},
   "outputs": [
    {
     "name": "stdout",
     "output_type": "stream",
     "text": [
      "{1: 3, 4: 2, 5: 1, 6: 2}\n"
     ]
    },
    {
     "data": {
      "text/plain": [
       "3"
      ]
     },
     "execution_count": 25,
     "metadata": {},
     "output_type": "execute_result"
    }
   ],
   "source": [
    "#Program to Count the Frequency of Elements in a List\n",
    "def countfreq(num) :\n",
    "    count = 0\n",
    "    d = {}\n",
    "    for n in num:\n",
    "        #print(\"out=\"+str(n))\n",
    "        count = 0\n",
    "        index = 0\n",
    "        if(n not in d.keys()) :\n",
    "            for k in num :\n",
    "                #print(\"in=\"+str(k))\n",
    "                if(k == n):\n",
    "                    count += 1\n",
    "                index += 1\n",
    "            d[n] = count\n",
    "    return d\n",
    "        \n",
    "print(countfreq([1,4,1,4,5,1,6,6])) \n",
    "count = 0\n",
    "len([x  for x in [1,4,1,4,5,1,6,6]  if x == 1 ])\n",
    "   \n"
   ]
  },
  {
   "cell_type": "code",
   "execution_count": null,
   "id": "8eeb039e",
   "metadata": {},
   "outputs": [],
   "source": [
    "factors = []\n",
    "for i in range(1,num):\n",
    "    if num%i == 0:\n",
    "        factors.append(i)\n",
    "print(factors)"
   ]
  },
  {
   "cell_type": "code",
   "execution_count": 88,
   "id": "122b814e",
   "metadata": {},
   "outputs": [
    {
     "name": "stdout",
     "output_type": "stream",
     "text": [
      "Please enter any String : Python Program to Count words in a String using Dictionary\n",
      "[1, 1, 1, 1, 1, 1, 1, 1, 1, 1]\n",
      "Dictionary Items  :   {'Python': 1, 'Program': 1, 'to': 1, 'Count': 1, 'words': 1, 'in': 1, 'a': 1, 'String': 1, 'using': 1, 'Dictionary': 1}\n"
     ]
    }
   ],
   "source": [
    "# Python Program to Count words in a String using Dictionary\n",
    "\n",
    "string = input(\"Please enter any String : \")\n",
    "words = []\n",
    "\n",
    "words = string.split()\n",
    "frequency = [words.count(i) for i in words]\n",
    "\n",
    "print(frequency)\n",
    "\n",
    "myDict = dict(zip(words, frequency))\n",
    "print(\"Dictionary Items  :  \",  myDict)"
   ]
  },
  {
   "cell_type": "code",
   "execution_count": 77,
   "id": "e8931103",
   "metadata": {},
   "outputs": [
    {
     "name": "stdout",
     "output_type": "stream",
     "text": [
      "(('John', 'Jenny'), ('Charles', 'Christy'), ('Mike', 'Monica'))\n"
     ]
    }
   ],
   "source": [
    "a = (\"John\", \"Charles\", \"Mike\")\n",
    "b = (\"Jenny\", \"Christy\", \"Monica\")\n",
    "\n",
    "x = zip(a, b)\n",
    "\n",
    "#use the tuple() function to display a readable version of the result:\n",
    "\n",
    "print(tuple(x))\n"
   ]
  },
  {
   "cell_type": "code",
   "execution_count": 87,
   "id": "0e966459",
   "metadata": {},
   "outputs": [
    {
     "name": "stdout",
     "output_type": "stream",
     "text": [
      "['a', 'b', 'c']\n"
     ]
    }
   ],
   "source": [
    "##Remove any duplicates from a List:\n",
    "mylist = [\"a\", \"b\", \"a\", \"c\", \"c\"]\n",
    "mylist = list(dict.fromkeys(mylist))\n",
    "print(mylist)\n"
   ]
  },
  {
   "cell_type": "code",
   "execution_count": 78,
   "id": "c3e4a772",
   "metadata": {},
   "outputs": [
    {
     "name": "stdout",
     "output_type": "stream",
     "text": [
      "Both Indexes =  torial Gate\n",
      "No First Index =  Tutorial\n",
      "No Second Index =  rial Gateway\n",
      "No Indexes =  Tutorial Gateway\n",
      "Negative First Index =  way\n",
      "Negative Second Index =  Tutorial Gatew\n"
     ]
    }
   ],
   "source": [
    "x = 'Tutorial Gateway'\n",
    "\n",
    "# Slicing the String using two indexes\n",
    "a = x[2:13] \n",
    "print(\"Both Indexes = \", a)\n",
    "\n",
    "# Slicing the String using Second indexes\n",
    "b = x[:8] \n",
    "print(\"No First Index = \", b)\n",
    "\n",
    "# Slicing the String using First indexes\n",
    "c = x[4:] \n",
    "print(\"No Second Index = \", c)\n",
    "\n",
    "# Slicing the String without using two indexes\n",
    "d = x[:] \n",
    "print(\"No Indexes = \", d)\n",
    "\n",
    "# Slicing the String using Negative indexes\n",
    "e = x[-3:] \n",
    "print(\"Negative First Index = \", e)\n",
    "\n",
    "# Slicing the String using Negative indexes\n",
    "f = x[:-2] \n",
    "print(\"Negative Second Index = \", f)"
   ]
  },
  {
   "cell_type": "code",
   "execution_count": 79,
   "id": "9c62baf6",
   "metadata": {},
   "outputs": [
    {
     "name": "stdout",
     "output_type": "stream",
     "text": [
      "60\n",
      "\n",
      "Result from a multi Function\n",
      "60\n"
     ]
    }
   ],
   "source": [
    "multi = lambda x, y, z : x * y * z\n",
    "print(multi(5, 2, 6))\n",
    " \n",
    "print(\"\\nResult from a multi Function\")\n",
    "def multi_func(x, y, z):\n",
    "    return x * y * z\n",
    " \n",
    "print(multi_func(5, 2, 6))"
   ]
  },
  {
   "cell_type": "code",
   "execution_count": 80,
   "id": "bd1eba2c",
   "metadata": {},
   "outputs": [
    {
     "name": "stdout",
     "output_type": "stream",
     "text": [
      "42\n",
      "231\n",
      "272\n",
      "60\n",
      "Multiplication Values\n",
      "40\n",
      "66000\n",
      "5400\n",
      "6000\n"
     ]
    }
   ],
   "source": [
    "add = lambda x = 10, y = 20, z = 30 : x + y + z\n",
    "print(add(12, 14, 16)) # 12 + 14 + 16\n",
    "print(add(75, 126)) # 75 + 126 + 30\n",
    "print(add(222)) # 222 + 20 + 30\n",
    "print(add()) # 10 + 20 + 30\n",
    "\n",
    "print(\"Multiplication Values\")\n",
    "multi = lambda x = 10, y = 20, z = 30 : x * y * z\n",
    "print(multi(2, 4, 5)) # x = 2, y = 4, z = 5\n",
    "print(multi(100, 22)) # x = 100, y = 22, z = 30\n",
    "print(multi(9)) # x = 9, y = 20, z = 30\n",
    "print(multi()) # 10 * 20 * 30"
   ]
  },
  {
   "cell_type": "code",
   "execution_count": 82,
   "id": "2d3d687e",
   "metadata": {},
   "outputs": [
    {
     "ename": "FileNotFoundError",
     "evalue": "[Errno 2] No such file or directory: 'PythonSample.txt'",
     "output_type": "error",
     "traceback": [
      "\u001b[1;31m---------------------------------------------------------------------------\u001b[0m",
      "\u001b[1;31mFileNotFoundError\u001b[0m                         Traceback (most recent call last)",
      "\u001b[1;32m<ipython-input-82-d1345b88a4a3>\u001b[0m in \u001b[0;36m<module>\u001b[1;34m\u001b[0m\n\u001b[1;32m----> 1\u001b[1;33m \u001b[0mf_open\u001b[0m \u001b[1;33m=\u001b[0m \u001b[0mopen\u001b[0m\u001b[1;33m(\u001b[0m\u001b[1;34m\"PythonSample.txt\"\u001b[0m\u001b[1;33m,\u001b[0m \u001b[1;34m\"r\"\u001b[0m\u001b[1;33m)\u001b[0m\u001b[1;33m\u001b[0m\u001b[1;33m\u001b[0m\u001b[0m\n\u001b[0m\u001b[0;32m      2\u001b[0m \u001b[0mprint\u001b[0m\u001b[1;33m(\u001b[0m\u001b[0mf_open\u001b[0m\u001b[1;33m.\u001b[0m\u001b[0mread\u001b[0m\u001b[1;33m(\u001b[0m\u001b[1;33m)\u001b[0m\u001b[1;33m)\u001b[0m\u001b[1;33m\u001b[0m\u001b[1;33m\u001b[0m\u001b[0m\n\u001b[0;32m      3\u001b[0m \u001b[1;33m\u001b[0m\u001b[0m\n\u001b[0;32m      4\u001b[0m \u001b[0mprint\u001b[0m\u001b[1;33m(\u001b[0m\u001b[1;34m'\\nFile Name = '\u001b[0m\u001b[1;33m,\u001b[0m \u001b[0mf_open\u001b[0m\u001b[1;33m.\u001b[0m\u001b[0mname\u001b[0m\u001b[1;33m)\u001b[0m\u001b[1;33m\u001b[0m\u001b[1;33m\u001b[0m\u001b[0m\n\u001b[0;32m      5\u001b[0m \u001b[0mprint\u001b[0m\u001b[1;33m(\u001b[0m\u001b[1;34m'File Mode = '\u001b[0m\u001b[1;33m,\u001b[0m \u001b[0mf_open\u001b[0m\u001b[1;33m.\u001b[0m\u001b[0mmode\u001b[0m\u001b[1;33m)\u001b[0m\u001b[1;33m\u001b[0m\u001b[1;33m\u001b[0m\u001b[0m\n",
      "\u001b[1;31mFileNotFoundError\u001b[0m: [Errno 2] No such file or directory: 'PythonSample.txt'"
     ]
    }
   ],
   "source": [
    "f_open = open(\"PythonSample.txt\", \"r\")\n",
    "print(f_open.read())\n",
    "\n",
    "print('\\nFile Name = ', f_open.name)\n",
    "print('File Mode = ', f_open.mode)\n",
    "print('File closed? = ', f_open.closed)\n",
    "\n",
    "f_open.close()\n",
    "print('\\nFile closed? = ', f_open.closed)"
   ]
  },
  {
   "cell_type": "code",
   "execution_count": 4,
   "id": "ea264e2e",
   "metadata": {},
   "outputs": [
    {
     "name": "stdout",
     "output_type": "stream",
     "text": [
      "[[2, 3], [9, 2]]\n",
      "1\n",
      "2\n",
      "1\n",
      "2\n",
      "8\n",
      "1\n",
      "8\n",
      "1\n",
      "[[3, 3], [9, 9]]\n"
     ]
    }
   ],
   "source": [
    "m1    = [[1,2],\n",
    "         [8,1]]\n",
    "\n",
    "#Matrix II \n",
    "m2    = [[1,1],\n",
    "         [1,1]]\n",
    "  \n",
    "#Initialize resultant matrix with 0       \n",
    "res   = [[0,0], \n",
    "         [0,0]]\n",
    "for i in range(len(m1)) :\n",
    "    for j in range(len(m1[0])) :\n",
    "        res[i][j] = m1[i][j] + m2[i][j]\n",
    "print (res)\n",
    "\n",
    "\n",
    "for i in range(len(m1)):\n",
    "    for j in range(len(m2[0])):\n",
    "        sum = 0\n",
    "        for k in range(len(m1[0])):\n",
    "            sum =  sum + m1[i][k]*m2[k][j]\n",
    "            print(m1[i][k]*m2[k][j])\n",
    "        res1[i][j] = sum\n",
    "\n",
    "        \n",
    "print (res1)\n"
   ]
  },
  {
   "cell_type": "code",
   "execution_count": 8,
   "id": "37ba0fee",
   "metadata": {},
   "outputs": [
    {
     "name": "stdout",
     "output_type": "stream",
     "text": [
      "Enter the lower Interval value: 1\n",
      "Enter the upper Interval value: 10\n",
      "1\n",
      "2\n",
      "3\n",
      "5\n",
      "7\n"
     ]
    }
   ],
   "source": [
    "##Print all Prime Numbers in an Interval\n",
    "lower = int(input(\"Enter the lower Interval value: \"))\n",
    "upper = int(input(\"Enter the upper Interval value: \"))\n",
    "\n",
    "#loop through the Interval and check individually\n",
    "for num in range(lower, upper+1):\n",
    "\n",
    "    #Number should not be divisible\n",
    "    #by any number between 1-num\n",
    "    for x in range(2,num):\n",
    "        if num%x==0:\n",
    "            break\n",
    "    else:\n",
    "        print(num)"
   ]
  },
  {
   "cell_type": "code",
   "execution_count": 3,
   "id": "946ac7aa",
   "metadata": {},
   "outputs": [
    {
     "name": "stdout",
     "output_type": "stream",
     "text": [
      "7\n",
      "432\n",
      "00185\n",
      "624\n"
     ]
    }
   ],
   "source": [
    "#Given an array of integers arr, your task is to calculate the sum of reverse numbers of the elements of arr.\n",
    "\n",
    "#Example\n",
    "\n",
    "#For arr = [7, 234, 58100], the output should be solution(arr) = 18939.\n",
    "\n",
    "#The reverse of 7 is 7.\n",
    "#The reverse of 234 is 432.\n",
    "#The reverse of 58100 is 18500.\n",
    "#So the answer is 7 + 432 + 18500 = 18939.\n",
    "#For arr = \n",
    "arr = [7, 234, 58100]\n",
    "\n",
    "def revsum(a):\n",
    "    result =0\n",
    "    for i in a :\n",
    "        result += reverse(i)\n",
    "    return result\n",
    "\n",
    "def reverse(n):\n",
    "    r = []\n",
    "    l = 1\n",
    "    s = ''\n",
    "    while(n > 0) :\n",
    "        d = n%10\n",
    "        n = n//10\n",
    "        r.append(d)\n",
    "     \n",
    "    for c in r :\n",
    "        s = s + ''.join(str(c))\n",
    "       \n",
    "    \n",
    "    print(s)\n",
    "    return(int(s))\n",
    "        \n",
    "print(revsum(arr))"
   ]
  },
  {
   "cell_type": "code",
   "execution_count": 5,
   "id": "d676dac0",
   "metadata": {},
   "outputs": [
    {
     "name": "stdout",
     "output_type": "stream",
     "text": [
      "[3, 3, 2]\n"
     ]
    }
   ],
   "source": [
    "word = 'abbccdabbcabcd'\n",
    "sub = ['ab','bc','cd']\n",
    "m =2\n",
    "def findsubstringcount(word,sub,len1) :\n",
    "    ind = 0\n",
    "    l = len(word)\n",
    "    res = []\n",
    "    for c in sub :\n",
    "        res.append(word.count(c))\n",
    "    return res\n",
    "        \n",
    "print(findsubstringcount(word,sub,m))    \n",
    "    "
   ]
  },
  {
   "cell_type": "code",
   "execution_count": null,
   "id": "c91b0a8c",
   "metadata": {},
   "outputs": [],
   "source": [
    "Given an array of integers arr, a positive integer k, and an integer s, your task is to find the \n",
    "number of non-empty contiguous subarrays with length not greater than k and with a sum equal to s.\n",
    "\n",
    "Example\n",
    "\n",
    "For arr = [1, 0], k = 2, and s = 1, the output should be solution(arr, k, s) = 2.\n",
    "\n",
    "There is 1 subarray among the contiguous subarrays of length 1 with sum equal to s = 1, and it is [1],\n",
    "There is 1 subarray among the contiguous subarrays of length 2 with sum equal to s = 1, and it is [1, 0].\n",
    "So the answer is 2.\n",
    "\n",
    "For arr = [1, 2, 4, -1, 6, 1], k = 3, and s = 6, the output should be solution(arr, k, s) = 3.\n",
    "\n",
    "There is 1 subarray among the contiguous subarrays of length 1 with sum equal to s = 6, and it is [6],\n",
    "There is 1 subarray among the contiguous subarrays of length 2 with sum equal to s = 6, and it is [2, 4],\n",
    "There is 1 subarray among the contiguous subarrays of length 3 with sum equal to s = 6, and it is [-1, 6, 1].\n",
    "Note that the subarray [1, 2, 4, -1] would also sum to s, but its length is greater than k, so it's not applicable.\n",
    "\n",
    "So the answer is 3.\n",
    "\n",
    "Input/Output\n",
    "\n",
    "[execution time limit] 4 seconds (py3)\n",
    "\n",
    "[input] array.integer arr\n",
    "\n",
    "An array of integers.\n",
    "\n",
    "Guaranteed constraints:\n",
    "2 ≤ arr.length ≤ 105,\n",
    "-109 ≤ arr[i] ≤ 109.\n",
    "\n",
    "[input] integer k\n",
    "\n",
    "A positive integer denoting the maximal length of the contiguous subarrays we'll be considering.\n",
    "\n",
    "Guaranteed constraints:\n",
    "1 ≤ k ≤ arr.length.\n",
    "\n",
    "[input] integer64 s\n",
    "\n",
    "An integer representing the sum we're looking for within the contiguous subarrays. Note, that this integer may not fit in 32-bit type and thus is provided in a 64-bit type.\n",
    "\n",
    "Guaranteed constraints:\n",
    "-1011 ≤ s ≤ 1011."
   ]
  },
  {
   "cell_type": "code",
   "execution_count": 92,
   "id": "c6434e5e",
   "metadata": {},
   "outputs": [
    {
     "name": "stdout",
     "output_type": "stream",
     "text": [
      "3\n"
     ]
    }
   ],
   "source": [
    "# def subarraySum(nums,k,s) :\n",
    "#     ind = 0\n",
    "#     count = 0\n",
    "#     for i in nums :\n",
    "#         inner = 1\n",
    "#         if(len(nums)-ind+1 < k) :\n",
    "#             break;\n",
    "#         for p in range(k):\n",
    "#             print(nums[ind:ind+inner])\n",
    "#             if(inner == 0) and p == s:\n",
    "#                 count += 1\n",
    "#             elif (sum(nums[ind:ind+inner]) == s ):\n",
    "#                 count += 1\n",
    "#             inner += 1\n",
    "#         ind += 1\n",
    "#     return count\n",
    "arr = [1, 2, 4, -1, 6, 1]\n",
    "nums = [ 10, 2, -2, -20, 10 ]\n",
    "k = -10 \n",
    "\n",
    "\n",
    "#print(subarraySum(nums,k,s))  \n",
    "#better method\n",
    "def sas(nums,k,s) :\n",
    "    count = 0\n",
    "    sum1 = 0\n",
    "    s = len(nums)\n",
    "    for i in range(s) :\n",
    "        sum1 = 0\n",
    "        for j in range(i,s):\n",
    "            sum1 = sum1 + nums[j]\n",
    "            if(sum1 == k) :\n",
    "                count+= 1\n",
    "                break\n",
    "    return count\n",
    "print(sas(nums,k,s))            \n",
    "        \n",
    "        \n",
    "    "
   ]
  },
  {
   "cell_type": "code",
   "execution_count": 9,
   "id": "ffde7560",
   "metadata": {},
   "outputs": [
    {
     "name": "stdout",
     "output_type": "stream",
     "text": [
      "39 days\n",
      "-320 days left in this year\n"
     ]
    }
   ],
   "source": [
    "from datetime import datetime\n",
    "\n",
    "#specify date format\n",
    "date_format = \"%m/%d/%Y\"\n",
    "\n",
    "a = datetime.strptime('8/18/2008', date_format)\n",
    "b = datetime.strptime('9/26/2008', date_format)\n",
    "delta = b - a\n",
    "\n",
    "print(delta.days,\"days\")\n",
    "\n",
    "from datetime import date\n",
    "\n",
    "a = date.today()\n",
    "b = date(2020, 12, 31)\n",
    "delta = b - a\n",
    "\n",
    "print(delta.days,\"days left in this year\")"
   ]
  },
  {
   "cell_type": "code",
   "execution_count": 97,
   "id": "1ff12da9",
   "metadata": {},
   "outputs": [
    {
     "data": {
      "text/plain": [
       "['a', 'ab', 'abc', 'abcd', 'b', 'bc', 'bcd', 'c', 'cd', 'd']"
      ]
     },
     "execution_count": 97,
     "metadata": {},
     "output_type": "execute_result"
    }
   ],
   "source": [
    "#Print all subsequences of a string\n",
    "s = 'abcd'\n",
    "result = []\n",
    "\n",
    "def subsequences(s) :\n",
    "    o = ''\n",
    "    for c  in range (len(s)):\n",
    "        #o = s[c]\n",
    "        #print(o)\n",
    "        for k in range (c,len(s)):\n",
    "            o = o + s[k]\n",
    "            result.append(o)\n",
    "        o = ''\n",
    "    return result\n",
    "subsequences(s)\n",
    "            "
   ]
  }
 ],
 "metadata": {
  "kernelspec": {
   "display_name": "Python 3",
   "language": "python",
   "name": "python3"
  },
  "language_info": {
   "codemirror_mode": {
    "name": "ipython",
    "version": 3
   },
   "file_extension": ".py",
   "mimetype": "text/x-python",
   "name": "python",
   "nbconvert_exporter": "python",
   "pygments_lexer": "ipython3",
   "version": "3.7.3"
  }
 },
 "nbformat": 4,
 "nbformat_minor": 5
}
