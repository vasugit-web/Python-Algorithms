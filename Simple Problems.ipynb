{
 "cells": [
  {
   "cell_type": "code",
   "execution_count": null,
   "id": "6d2b9870",
   "metadata": {},
   "outputs": [],
   "source": [
    "# You are playing the Bulls and Cows game with your friend.\n",
    "\n",
    "# You write down a secret number and ask your friend to guess what the number is. When your friend makes a guess, you provide a hint with the following info:\n",
    "\n",
    "# The number of \"bulls\", which are digits in the guess that are in the correct position.\n",
    "# The number of \"cows\", which are digits in the guess that are in your secret number but are located in the wrong position. Specifically, the non-bull digits in the guess that could be rearranged such that they become bulls.\n",
    "# Given the secret number secret and your friend's guess guess, return the hint for your friend's guess.\n",
    "\n",
    "# The hint should be formatted as \"xAyB\", where x is the number of bulls and y is the number of cows. Note that both secret and guess may contain duplicate digits.\n",
    "\n",
    " \n",
    "\n",
    "# Example 1:\n",
    "\n",
    "# Input: secret = \"1807\", guess = \"7810\"\n",
    "# Output: \"1A3B\"\n",
    "# Explanation: Bulls are connected with a '|' and cows are underlined:\n",
    "# \"1807\"\n",
    "#   |\n",
    "# \"7810\"\n",
    "\n",
    "class Solution:\n",
    "    def getHint(self, secret: str, guess: str) -> str:\n",
    "        h = Counter(secret)\n",
    "        print(h)    \n",
    "        bulls = cows = 0\n",
    "        for idx, ch in enumerate(guess):\n",
    "            if ch in h:\n",
    "                # corresponding characters match\n",
    "                if ch == secret[idx]:\n",
    "                    # update the bulls\n",
    "                    bulls += 1\n",
    "                    # update the cows \n",
    "                    # if all ch characters from secret \n",
    "                    # were used up\n",
    "                    print(h[ch])\n",
    "                    cows -= int(h[ch] <= 0)\n",
    "                # corresponding characters don't match\n",
    "                else:\n",
    "                    # update the cows\n",
    "                    cows += int(h[ch] > 0)\n",
    "                # ch character was used\n",
    "                h[ch] -= 1\n",
    "        return \"{}A{}B\".format(bulls, cows)"
   ]
  }
 ],
 "metadata": {
  "kernelspec": {
   "display_name": "Python 3",
   "language": "python",
   "name": "python3"
  },
  "language_info": {
   "codemirror_mode": {
    "name": "ipython",
    "version": 3
   },
   "file_extension": ".py",
   "mimetype": "text/x-python",
   "name": "python",
   "nbconvert_exporter": "python",
   "pygments_lexer": "ipython3",
   "version": "3.7.3"
  }
 },
 "nbformat": 4,
 "nbformat_minor": 5
}
